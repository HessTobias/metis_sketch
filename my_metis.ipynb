{
 "cells": [
  {
   "cell_type": "code",
   "execution_count": 2,
   "metadata": {},
   "outputs": [],
   "source": [
    "from Semi_ATE import STDF\n",
    "import cProfile\n",
    "import h5py\n",
    "import os\n",
    "import magic"
   ]
  },
  {
   "cell_type": "code",
   "execution_count": 3,
   "metadata": {},
   "outputs": [],
   "source": [
    "fname = \"demofile.stdf\"\n",
    "\n",
    "list_of_rec = []\n",
    "\n",
    "\n",
    "for i, REC in enumerate(STDF.records_from_file(f\"{fname}\")):\n",
    "    if i == 20:\n",
    "        break\n",
    "    list_of_rec.append(REC.to_dict())"
   ]
  },
  {
   "cell_type": "code",
   "execution_count": 4,
   "metadata": {},
   "outputs": [
    {
     "data": {
      "text/plain": [
       "{'REC_LEN': 17,\n",
       " 'REC_TYP': 2,\n",
       " 'REC_SUB': 10,\n",
       " 'HEAD_NUM': 1,\n",
       " 'SITE_GRP': 255,\n",
       " 'START_T': 991790025,\n",
       " 'WAFER_ID': 'R114792-03',\n",
       " 'rec_id': 'WIR'}"
      ]
     },
     "execution_count": 4,
     "metadata": {},
     "output_type": "execute_result"
    }
   ],
   "source": [
    "list_of_rec[5]"
   ]
  },
  {
   "cell_type": "code",
   "execution_count": 7,
   "metadata": {},
   "outputs": [
    {
     "name": "stdout",
     "output_type": "stream",
     "text": [
      "start\n"
     ]
    }
   ],
   "source": [
    "#pfad\n",
    "add_par= {\n",
    "    \"path\":\"/test/\",\n",
    "    \"type\":\"prod\",\n",
    "    \"stdf_name\":fname,\n",
    "    \"active_wafer_with_head_as_key\":{}}\n",
    "\n",
    "for REC in list_of_rec:\n",
    "    add_par = magic.REC_str2fnc[REC[\"rec_id\"]](REC,add_par)"
   ]
  },
  {
   "cell_type": "code",
   "execution_count": 8,
   "metadata": {},
   "outputs": [
    {
     "name": "stdout",
     "output_type": "stream",
     "text": [
      "prod\n",
      "prod/demofile.stdf\n",
      "prod/demofile.stdf/GDR-0\n",
      "prod/demofile.stdf/GDR-1\n",
      "prod/demofile.stdf/MIR\n",
      "prod/demofile.stdf/R114792-03\n",
      "prod/demofile.stdf/SDR-0\n",
      "prod/demofile.stdf/WCR\n"
     ]
    }
   ],
   "source": [
    "f = h5py.File(add_par[\"path\"]+\"W118892.hdf5\", 'r')\n",
    "def get_all(name):\n",
    "    print(name)\n",
    "    \n",
    "f.visit(get_all)\n"
   ]
  },
  {
   "cell_type": "code",
   "execution_count": 11,
   "metadata": {},
   "outputs": [
    {
     "data": {
      "text/plain": [
       "<KeysViewHDF5 ['CENTER_X', 'CENTER_Y', 'DIE_HT', 'DIE_WID', 'POS_X', 'POS_Y', 'REC_LEN', 'REC_SUB', 'REC_TYP', 'WAFR_SIZ', 'WF_FLAT', 'WF_UNITS', 'rec_id']>"
      ]
     },
     "execution_count": 11,
     "metadata": {},
     "output_type": "execute_result"
    }
   ],
   "source": [
    "f[\"prod/demofile.stdf/WCR\"].attrs.keys()"
   ]
  },
  {
   "cell_type": "code",
   "execution_count": 13,
   "metadata": {},
   "outputs": [
    {
     "data": {
      "text/plain": [
       "'MIR'"
      ]
     },
     "execution_count": 13,
     "metadata": {},
     "output_type": "execute_result"
    }
   ],
   "source": [
    "f[\"prod/demofile.stdf/MIR\"].attrs[\"rec_id\"]"
   ]
  }
 ],
 "metadata": {
  "interpreter": {
   "hash": "349c6809b773ee70bad61e963c5c36b9db75e7baf7044a05b24498f946ae5f8b"
  },
  "kernelspec": {
   "display_name": "Python 3.9.2 64-bit ('web': conda)",
   "language": "python",
   "name": "python3"
  },
  "language_info": {
   "codemirror_mode": {
    "name": "ipython",
    "version": 3
   },
   "file_extension": ".py",
   "mimetype": "text/x-python",
   "name": "python",
   "nbconvert_exporter": "python",
   "pygments_lexer": "ipython3",
   "version": "3.10.2"
  },
  "orig_nbformat": 2
 },
 "nbformat": 4,
 "nbformat_minor": 2
}
